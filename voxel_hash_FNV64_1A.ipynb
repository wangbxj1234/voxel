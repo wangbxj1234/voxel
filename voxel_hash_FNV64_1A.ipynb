{
  "nbformat": 4,
  "nbformat_minor": 0,
  "metadata": {
    "colab": {
      "provenance": [],
      "authorship_tag": "ABX9TyOeZsm0UxbbzSfcRt4Q2R+E",
      "include_colab_link": true
    },
    "kernelspec": {
      "name": "python3",
      "display_name": "Python 3"
    },
    "language_info": {
      "name": "python"
    }
  },
  "cells": [
    {
      "cell_type": "markdown",
      "metadata": {
        "id": "view-in-github",
        "colab_type": "text"
      },
      "source": [
        "<a href=\"https://colab.research.google.com/github/wangbxj1234/voxel/blob/main/voxel_hash_FNV64_1A.ipynb\" target=\"_parent\"><img src=\"https://colab.research.google.com/assets/colab-badge.svg\" alt=\"Open In Colab\"/></a>"
      ]
    },
    {
      "cell_type": "code",
      "source": [
        "import numpy as np\n",
        "import torch\n",
        "\n",
        "x = torch.rand(100,6)####n*c\n",
        "p = torch.rand(100,3) #n*3\n",
        "\n",
        "p=p.detach()\n",
        "x=x.detach()\n",
        "discrete_coord = torch.floor(p *10)\n",
        "discrete_coord[1]=discrete_coord[0]\n",
        "discrete_coord[3]=discrete_coord[0]"
      ],
      "metadata": {
        "id": "_huPXSfnUsBP"
      },
      "execution_count": 1,
      "outputs": []
    },
    {
      "cell_type": "code",
      "source": [
        "def fnv_hash_vec(arr):\n",
        "    \"\"\"\n",
        "    FNV64-1A\n",
        "    \"\"\"\n",
        "    assert arr.ndim == 2\n",
        "    # Floor first for negative coordinates\n",
        "    arr = arr.copy()\n",
        "    arr = arr.astype(np.uint64, copy=False)\n",
        "    hashed_arr = np.uint64(14695981039346656037) * np.ones(arr.shape[0], dtype=np.uint64)\n",
        "    for j in range(arr.shape[1]):\n",
        "        hashed_arr *= np.uint64(1099511628211)\n",
        "        hashed_arr = np.bitwise_xor(hashed_arr, arr[:, j])\n",
        "    return hashed_arr\n",
        "\n",
        "discrete_coord=discrete_coord.numpy()\n",
        "key = fnv_hash_vec(discrete_coord)\n",
        "key = key.astype(np.int16, copy=False)\n",
        "key = torch.from_numpy(key)\n",
        "key"
      ],
      "metadata": {
        "colab": {
          "base_uri": "https://localhost:8080/"
        },
        "id": "AlrcIZH9U5HT",
        "outputId": "e5dc12b9-c73a-471b-e185-48db5a148849"
      },
      "execution_count": 2,
      "outputs": [
        {
          "output_type": "execute_result",
          "data": {
            "text/plain": [
              "tensor([ -1206,  -1206,   4879,  -1206,  -9022, -21172,   5734,  19591,    100,\n",
              "        -27259, -12940,   1407, -27696,  17044, -22481,  -9462, -20309,   6179,\n",
              "          9221,   4433,  -7718, -27695, -27250,  10475,  11776,  13076,  -5116,\n",
              "         17043,   6180, -29868,  -7713,  -1213,  -9459,  -8590,  19164, -17705,\n",
              "         20035,  25241,  26983, -31173, -16845, -27693,  12214, -29871, -10323,\n",
              "        -16843,  19165, -15980,  26982, -19009,  -1208, -18584,  20039,   6620,\n",
              "        -19015, -17268,   4447,  11344, -16848, -23345,   1405,   5736,  10040,\n",
              "         13120,  17045,  -9457, -32477, -22916,  -9017, -23789,  13085, -17706,\n",
              "          8790, -29866, -22481,  -4684, -30293,  25674,  12648,  -1635,  20466,\n",
              "        -19877,  11783,  24372,  -9022,  16116,   9216, -21178,   4010, -22051,\n",
              "        -31175, -19450, -17704,   4007,  24371,  12692,  30028, -16844,   -774,\n",
              "         -9462], dtype=torch.int16)"
            ]
          },
          "metadata": {},
          "execution_count": 2
        }
      ]
    },
    {
      "cell_type": "code",
      "source": [
        "m=key[:, None] - key[None,:]\n",
        "a=(m == 0).nonzero() #find all the zeros ；（(m==0) is a boolean mask）"
      ],
      "metadata": {
        "id": "p30yzXxPmLjf"
      },
      "execution_count": 3,
      "outputs": []
    },
    {
      "cell_type": "code",
      "source": [
        "counts=torch.count_nonzero(m==0, dim=0)#count zeros row by row\n",
        "minvoxel=torch.max(counts)#find the count of points in the smallest voxel grid.\n",
        "minvoxel"
      ],
      "metadata": {
        "colab": {
          "base_uri": "https://localhost:8080/"
        },
        "id": "83bL-DR2dnrK",
        "outputId": "2b1d7ea8-1812-4dd0-882b-8e98470b9bd9"
      },
      "execution_count": 4,
      "outputs": [
        {
          "output_type": "execute_result",
          "data": {
            "text/plain": [
              "tensor(3)"
            ]
          },
          "metadata": {},
          "execution_count": 4
        }
      ]
    },
    {
      "cell_type": "code",
      "source": [
        "###我希望 minvoxel 不要低于16， 但是我又不能把格子打的太粗糙。"
      ],
      "metadata": {
        "id": "iE9Zqkz0zq_F"
      },
      "execution_count": null,
      "outputs": []
    }
  ]
}