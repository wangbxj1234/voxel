{
  "nbformat": 4,
  "nbformat_minor": 0,
  "metadata": {
    "colab": {
      "provenance": [],
      "authorship_tag": "ABX9TyP+efElJhz44RrrDzMTeSPG",
      "include_colab_link": true
    },
    "kernelspec": {
      "name": "python3",
      "display_name": "Python 3"
    },
    "language_info": {
      "name": "python"
    }
  },
  "cells": [
    {
      "cell_type": "markdown",
      "metadata": {
        "id": "view-in-github",
        "colab_type": "text"
      },
      "source": [
        "<a href=\"https://colab.research.google.com/github/wangbxj1234/voxel/blob/main/collate_fn.ipynb\" target=\"_parent\"><img src=\"https://colab.research.google.com/assets/colab-badge.svg\" alt=\"Open In Colab\"/></a>"
      ]
    },
    {
      "cell_type": "code",
      "source": [
        "import numpy as np\n",
        "import torch"
      ],
      "metadata": {
        "id": "7cxiUa2BHJI-"
      },
      "execution_count": 1,
      "outputs": []
    },
    {
      "cell_type": "code",
      "execution_count": 2,
      "metadata": {
        "id": "SIHuAM81HHt8"
      },
      "outputs": [],
      "source": [
        "def collate_fn(coord, feat, label):#(B,N,C)\n",
        "    #coord, feat, label = list(zip(*batch))#(B,N,C)\n",
        "    offset = [6,12]\n",
        "    \n",
        "    ####\n",
        "    #coord, feat, label = torch.cat(coord,dim=0), torch.cat(feat,dim=0), torch.cat(label,dim=0) #但是属于不同batch的，就算坐标近也不能分进一个v。\n",
        "    offset = torch.IntTensor(offset)##(N,3),(N,C),(N,),O\n",
        "\n",
        "    ##to np\n",
        "    coord, feat, label = coord.cpu().detach().numpy(),feat.cpu().detach().numpy(),label.cpu().detach().numpy()\n",
        "    ##\n",
        "    PN=0;\n",
        "    voxel=[]\n",
        "    for o in offset:\n",
        "        c, f, l =coord[PN:int(o),:],feat[PN:int(o),:],label[PN:int(o),:]#(n,C),(n,C),(n,)\n",
        "        discrete_coord = np.floor(c *4) \n",
        "        assert discrete_coord.ndim == 2\n",
        "    # Floor first for negative coordinates\n",
        "        arr = discrete_coord.copy()\n",
        "        arr = arr.astype(np.uint64, copy=False)\n",
        "        hashed_arr = np.uint64(14695981039346656037) * np.ones(arr.shape[0], dtype=np.uint64)\n",
        "        for j in range(arr.shape[1]):\n",
        "            hashed_arr *= np.uint64(1099511628211)\n",
        "            hashed_arr = np.bitwise_xor(hashed_arr, arr[:, j])\n",
        "        idx_sort = np.argsort(hashed_arr) \n",
        "        key_sort = hashed_arr[idx_sort] \n",
        "        _, count1 = np.unique(key_sort, return_counts=True)\n",
        "        coord[PN:int(o),:],feat[PN:int(o),:],label[PN:int(o),:]= c[idx_sort],f[idx_sort],l[idx_sort]\n",
        "        voxel.append(count1)\n",
        "        PN=int(o)\n",
        "\n",
        "    ##to torch\n",
        "    coord, feat, label = torch.tensor(coord),torch.tensor(feat),torch.tensor(label)\n",
        "    ##    \n",
        "\n",
        "    return coord, feat, label, offset, voxel"
      ]
    },
    {
      "cell_type": "code",
      "source": [
        "#coord, feat, label=torch.rand(2,6,3),torch.rand(2,6,4),torch.rand(2,6,1)\n",
        "coord, feat, label=torch.rand(2*6,3),torch.rand(2*6,4),torch.rand(2*6,1)\n",
        "coord[0,:]=coord[1,:]\n",
        "coord"
      ],
      "metadata": {
        "colab": {
          "base_uri": "https://localhost:8080/"
        },
        "id": "G5cXTWPPHcGY",
        "outputId": "222fda1f-ea9c-4764-a834-ebbcd23fef5d"
      },
      "execution_count": 3,
      "outputs": [
        {
          "output_type": "execute_result",
          "data": {
            "text/plain": [
              "tensor([[0.3205, 0.3627, 0.5357],\n",
              "        [0.3205, 0.3627, 0.5357],\n",
              "        [0.8643, 0.4473, 0.0057],\n",
              "        [0.2726, 0.5545, 0.7501],\n",
              "        [0.7521, 0.1422, 0.3147],\n",
              "        [0.1669, 0.6799, 0.2549],\n",
              "        [0.6682, 0.6269, 0.8652],\n",
              "        [0.8147, 0.4467, 0.3710],\n",
              "        [0.0742, 0.7375, 0.0370],\n",
              "        [0.2847, 0.1096, 0.4617],\n",
              "        [0.6015, 0.5169, 0.6452],\n",
              "        [0.2654, 0.3807, 0.4452]])"
            ]
          },
          "metadata": {},
          "execution_count": 3
        }
      ]
    },
    {
      "cell_type": "code",
      "source": [
        "coord, feat, label, offset, voxel = collate_fn(coord, feat, label)\n",
        "print(coord.size(),feat.size(),label.size())"
      ],
      "metadata": {
        "colab": {
          "base_uri": "https://localhost:8080/"
        },
        "id": "28CuY9UGQ_mb",
        "outputId": "e2b3859b-24b1-4e48-d13b-03856c6c2419"
      },
      "execution_count": 4,
      "outputs": [
        {
          "output_type": "stream",
          "name": "stdout",
          "text": [
            "torch.Size([12, 3]) torch.Size([12, 4]) torch.Size([12, 1])\n"
          ]
        }
      ]
    },
    {
      "cell_type": "code",
      "source": [
        "voxel"
      ],
      "metadata": {
        "colab": {
          "base_uri": "https://localhost:8080/"
        },
        "id": "hlRaCQL6YJO9",
        "outputId": "de01e313-7ccf-4218-b57e-a1b54599b0a2"
      },
      "execution_count": 5,
      "outputs": [
        {
          "output_type": "execute_result",
          "data": {
            "text/plain": [
              "[array([1, 1, 1, 2, 1]), array([1, 1, 1, 1, 1, 1])]"
            ]
          },
          "metadata": {},
          "execution_count": 5
        }
      ]
    },
    {
      "cell_type": "code",
      "source": [
        "voxel2=np.concatenate(voxel, axis=0)# 6-1=5\n",
        "torch.tensor(voxel2)#好像实际操作只需要 voxel-wies的分界符，不需要 pcloud-wise的。"
      ],
      "metadata": {
        "colab": {
          "base_uri": "https://localhost:8080/"
        },
        "id": "CKiPWwy1Q2AD",
        "outputId": "e2d3bd3c-8a42-4c96-d6e2-bd901ecd9617"
      },
      "execution_count": 8,
      "outputs": [
        {
          "output_type": "execute_result",
          "data": {
            "text/plain": [
              "tensor([1, 1, 1, 2, 1, 1, 1, 1, 1, 1, 1])"
            ]
          },
          "metadata": {},
          "execution_count": 8
        }
      ]
    },
    {
      "cell_type": "code",
      "source": [
        "#好像只需要 voxel-wise的分界符，不需要 pcloud-wise的。\n",
        "voxel3=np.cumsum(voxel2)\n",
        "torch.tensor(voxel3)"
      ],
      "metadata": {
        "colab": {
          "base_uri": "https://localhost:8080/"
        },
        "id": "ZQ-tfhZTU4VE",
        "outputId": "fa15046b-da2f-4af8-9deb-b88ae5749d8b"
      },
      "execution_count": 12,
      "outputs": [
        {
          "output_type": "execute_result",
          "data": {
            "text/plain": [
              "tensor([ 1,  2,  3,  5,  6,  7,  8,  9, 10, 11, 12])"
            ]
          },
          "metadata": {},
          "execution_count": 12
        }
      ]
    }
  ]
}
