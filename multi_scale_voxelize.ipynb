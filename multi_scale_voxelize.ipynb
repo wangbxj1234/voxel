{
  "nbformat": 4,
  "nbformat_minor": 0,
  "metadata": {
    "colab": {
      "provenance": [],
      "authorship_tag": "ABX9TyPOQ40C0CUPnjBem8PR18uf",
      "include_colab_link": true
    },
    "kernelspec": {
      "name": "python3",
      "display_name": "Python 3"
    },
    "language_info": {
      "name": "python"
    }
  },
  "cells": [
    {
      "cell_type": "markdown",
      "metadata": {
        "id": "view-in-github",
        "colab_type": "text"
      },
      "source": [
        "<a href=\"https://colab.research.google.com/github/wangbxj1234/voxel/blob/main/multi_scale_voxelize.ipynb\" target=\"_parent\"><img src=\"https://colab.research.google.com/assets/colab-badge.svg\" alt=\"Open In Colab\"/></a>"
      ]
    },
    {
      "cell_type": "code",
      "source": [
        "import numpy as np\n",
        "import torch"
      ],
      "metadata": {
        "id": "7cxiUa2BHJI-"
      },
      "execution_count": 11,
      "outputs": []
    },
    {
      "cell_type": "code",
      "execution_count": 78,
      "metadata": {
        "id": "SIHuAM81HHt8"
      },
      "outputs": [],
      "source": [
        "def collate_fn(coord, feat, label):#(B,N,C)\n",
        "    #coord, feat, label = list(zip(*batch))#(B,N,C)\n",
        "    offset = [64,128]\n",
        "    \n",
        "    ####\n",
        "    #coord, feat, label = torch.cat(coord,dim=0), torch.cat(feat,dim=0), torch.cat(label,dim=0) #但是属于不同batch的，就算坐标近也不能分进一个v。\n",
        "    offset = torch.IntTensor(offset)##(N,3),(N,C),(N,),O\n",
        "\n",
        "    ##to np\n",
        "    coord, feat, label = coord.cpu().detach().numpy(),feat.cpu().detach().numpy(),label.cpu().detach().numpy()\n",
        "    ##\n",
        "    PN=0;\n",
        "    voxel=[]\n",
        "    voxel_1=[]\n",
        "    voxel_2=[]\n",
        "    voxel_3=[]\n",
        "    for o in offset:\n",
        "        c, f, l =coord[PN:int(o),:],feat[PN:int(o),:],label[PN:int(o),:]#(n,C),(n,C),(n,)\n",
        "        discrete_coord = np.floor(c *4) \n",
        "        assert discrete_coord.ndim == 2\n",
        "    # Floor first for negative coordinates\n",
        "        arr = discrete_coord.copy()\n",
        "        arr = arr.astype(np.uint64, copy=False)\n",
        "        hashed_arr = np.uint64(14695981039346656037) * np.ones(arr.shape[0], dtype=np.uint64)\n",
        "        for j in range(arr.shape[1]):\n",
        "            hashed_arr *= np.uint64(1099511628211)\n",
        "            hashed_arr = np.bitwise_xor(hashed_arr, arr[:, j])\n",
        "        idx_sort = np.argsort(hashed_arr) \n",
        "        key_sort = hashed_arr[idx_sort] \n",
        "        _, count = np.unique(key_sort, return_counts=True)\n",
        "        ### multiscale\n",
        "\n",
        "###4    \n",
        "        b = [count[i:i+4] for i in range(0,len(count),4)]\n",
        "        count1=[]\n",
        "        for i in range(len(b)):\n",
        "            count1.append(np.sum(b[i]))\n",
        "###16\n",
        "        b = [count[i:i+16] for i in range(0,len(count),16)]\n",
        "        count2=[]\n",
        "        for i in range(len(b)):\n",
        "            count2.append(np.sum(b[i]))\n",
        "###32   \n",
        "        b = [count[i:i+32] for i in range(0,len(count),32)]\n",
        "        count3=[]\n",
        "        for i in range(len(b)):\n",
        "            count3.append(np.sum(b[i]))\n",
        "        ###\n",
        "        coord[PN:int(o),:],feat[PN:int(o),:],label[PN:int(o),:]= c[idx_sort],f[idx_sort],l[idx_sort]\n",
        "        voxel.append(count)\n",
        "        voxel_1.append(count1)\n",
        "        voxel_2.append(count2)\n",
        "        voxel_3.append(count3)\n",
        "        PN=int(o)\n",
        "\n",
        "    ##to torch\n",
        "    coord, feat, label = torch.tensor(coord),torch.tensor(feat),torch.tensor(label)\n",
        "    ##    \n",
        "\n",
        "    return coord, feat, label, offset, voxel, voxel_1, voxel_2, voxel_3"
      ]
    },
    {
      "cell_type": "code",
      "source": [
        "#coord, feat, label=torch.rand(2,6,3),torch.rand(2,6,4),torch.rand(2,6,1)\n",
        "coord, feat, label=torch.rand(2*64,3),torch.rand(2*64,32),torch.rand(2*64,1)\n",
        "coord[0,:]=coord[1,:]\n",
        "#coord"
      ],
      "metadata": {
        "id": "G5cXTWPPHcGY"
      },
      "execution_count": 79,
      "outputs": []
    },
    {
      "cell_type": "code",
      "source": [
        "coord, feat, label, offset, voxel, voxel_1, voxel_2, voxel_3 = collate_fn(coord, feat, label)\n",
        "print(coord.size(),feat.size(),label.size())"
      ],
      "metadata": {
        "colab": {
          "base_uri": "https://localhost:8080/"
        },
        "id": "28CuY9UGQ_mb",
        "outputId": "14947dea-e12c-427d-d9fe-741a1a97c2fa"
      },
      "execution_count": 84,
      "outputs": [
        {
          "output_type": "stream",
          "name": "stdout",
          "text": [
            "torch.Size([128, 3]) torch.Size([128, 32]) torch.Size([128, 1])\n"
          ]
        }
      ]
    },
    {
      "cell_type": "code",
      "source": [
        "voxel_1"
      ],
      "metadata": {
        "colab": {
          "base_uri": "https://localhost:8080/"
        },
        "id": "hlRaCQL6YJO9",
        "outputId": "7c1ee961-7838-4ec0-adb1-2f4b72075ac1"
      },
      "execution_count": 85,
      "outputs": [
        {
          "output_type": "execute_result",
          "data": {
            "text/plain": [
              "[[6, 5, 7, 8, 6, 10, 8, 7, 7], [5, 9, 5, 6, 6, 5, 8, 6, 8, 5, 1]]"
            ]
          },
          "metadata": {},
          "execution_count": 85
        }
      ]
    },
    {
      "cell_type": "code",
      "source": [
        "voxel_2"
      ],
      "metadata": {
        "colab": {
          "base_uri": "https://localhost:8080/"
        },
        "id": "jdnN_3yEWim2",
        "outputId": "31cef905-e2d9-434a-8e68-aebe6e9d15b1"
      },
      "execution_count": 86,
      "outputs": [
        {
          "output_type": "execute_result",
          "data": {
            "text/plain": [
              "[[26, 31, 7], [25, 25, 14]]"
            ]
          },
          "metadata": {},
          "execution_count": 86
        }
      ]
    },
    {
      "cell_type": "code",
      "source": [
        "voxel_3"
      ],
      "metadata": {
        "colab": {
          "base_uri": "https://localhost:8080/"
        },
        "id": "OFLkygKvXTbB",
        "outputId": "12e9e8d5-efd7-4a64-d523-7508634ab361"
      },
      "execution_count": 87,
      "outputs": [
        {
          "output_type": "execute_result",
          "data": {
            "text/plain": [
              "[[57, 7], [50, 14]]"
            ]
          },
          "metadata": {},
          "execution_count": 87
        }
      ]
    },
    {
      "cell_type": "code",
      "source": [
        "v=torch.IntTensor(np.cumsum(np.concatenate(voxel, axis=0)))\n",
        "v1=torch.IntTensor(np.cumsum(np.concatenate(voxel_1, axis=0)))\n",
        "v2=torch.IntTensor(np.cumsum(np.concatenate(voxel_2, axis=0)))\n",
        "v3=torch.IntTensor(np.cumsum(np.concatenate(voxel_3, axis=0)))\n",
        "print(v1.size(),v2.size(),v3.size())"
      ],
      "metadata": {
        "colab": {
          "base_uri": "https://localhost:8080/"
        },
        "id": "Aogk8JctZ9sT",
        "outputId": "df9220a2-4cc4-487e-d916-85710ce3a931"
      },
      "execution_count": 88,
      "outputs": [
        {
          "output_type": "stream",
          "name": "stdout",
          "text": [
            "torch.Size([20]) torch.Size([6]) torch.Size([4])\n"
          ]
        }
      ]
    },
    {
      "cell_type": "markdown",
      "source": [
        "then. into model"
      ],
      "metadata": {
        "id": "uBcH-EN7h_Xy"
      }
    },
    {
      "cell_type": "code",
      "source": [
        "import torch\n",
        "import torch.nn.functional as F\n",
        "import numpy as np\n",
        "\n",
        "from torch import Tensor\n",
        "from typing import Optional\n",
        "from torch import nn\n",
        "\n",
        "\n",
        "class linear_Attention(nn.Module):\n",
        "    # flow attention in normal version\n",
        "    def __init__(self, in_planes):\n",
        "        super(linear_Attention, self).__init__()\n",
        "        self.n_heads =8\n",
        "        self.query_projection = nn.Linear(in_planes, in_planes)\n",
        "        self.key_projection = nn.Linear(in_planes, in_planes)\n",
        "        self.value_projection = nn.Linear(in_planes, in_planes)\n",
        "        self.out_projection = nn.Linear(in_planes, in_planes)\n",
        "        self.dropout = nn.Dropout(0.05)\n",
        "        self.eps = 1e-6\n",
        "\n",
        "    def kernel_method(self, x):\n",
        "        return torch.sigmoid(x)\n",
        "\n",
        "    def dot_product(self, q, k, v):\n",
        "        kv = torch.einsum(\"hld,hlm->hdm\", k, v)\n",
        "        qkv = torch.einsum(\"hld,hdm->hlm\", q, kv)\n",
        "        return qkv\n",
        "\n",
        "    def forward(self, pxo) -> torch.Tensor:\n",
        "        p, x, o = pxo   \n",
        "        PN=0;\n",
        "        x_sub=[]\n",
        "        p_sub=[]\n",
        "        out=[]\n",
        "        for offset in o:\n",
        "           x_s=x[PN:int(offset),:]\n",
        "           x_sub.append(x_s)\n",
        "           tgt_len, embed_dim = x_s.size() ###(N,d) \n",
        "           #print(offset,tgt_len, embed_dim)\n",
        "           PN=int(offset)\n",
        "        ## input: (L or S) D; output: L D\n",
        "        ## Note: queries, keys, values are not projected yet\n",
        "        ## 1. Linear projection\n",
        "           L=tgt_len\n",
        "           #print('L',L)\n",
        "           S=tgt_len\n",
        "           Q = self.query_projection(x_s).view(L, self.n_heads, -1)\n",
        "           K = self.key_projection(x_s).view(S, self.n_heads, -1)\n",
        "           V = self.value_projection(x_s).view(S, self.n_heads, -1)\n",
        "           #Q = queries.transpose(0, 1)\n",
        "           #K = keys.transpose(0, 1)\n",
        "           #V = values.transpose(0, 1)\n",
        "           # 2. Non-negative projection\n",
        "           Q = self.kernel_method(Q)\n",
        "           K = self.kernel_method(K)\n",
        "\n",
        "           KV = torch.einsum(\"shd,shm->hmd\", K, V)\n",
        "\n",
        "           # Compute the normalizer\n",
        "           Z = 1/(torch.einsum(\"lhd,hd->lh\", Q, K.sum(dim=0))+self.eps)\n",
        "\n",
        "           # Finally compute and return the new values\n",
        "           V = torch.einsum(\"lhd,hmd,lh->lhm\", Q, KV, Z)\n",
        "\n",
        "           output = V.reshape(L, -1)\n",
        "           output = self.out_projection(output)\n",
        "           output = self.dropout(output)\n",
        "\n",
        "           out.append(output)\n",
        "        #out=torch.IntTensor(out)\n",
        "        out=torch.cat(out,dim=0)\n",
        "\n",
        "        return out\n",
        "\n"
      ],
      "metadata": {
        "id": "vb8a7eNRhp39"
      },
      "execution_count": 91,
      "outputs": []
    },
    {
      "cell_type": "code",
      "source": [
        "planes=32\n",
        "transformer2 = linear_Attention(planes)\n",
        "\n",
        "right_res = transformer2([coord, feat, v])\n",
        "right_res1 = transformer2([coord, feat, v1])\n",
        "right_res2 = transformer2([coord, feat, v2])\n",
        "right_res3 = transformer2([coord, feat, v3])\n",
        "print(right_res.shape,right_res1.shape,right_res2.shape,right_res3.shape,)"
      ],
      "metadata": {
        "colab": {
          "base_uri": "https://localhost:8080/"
        },
        "id": "a-Bw9tQziIXB",
        "outputId": "1bcd1832-1cae-4251-f17a-0495d1b5c6e8"
      },
      "execution_count": 92,
      "outputs": [
        {
          "output_type": "stream",
          "name": "stdout",
          "text": [
            "torch.Size([128, 32]) torch.Size([128, 32]) torch.Size([128, 32]) torch.Size([128, 32])\n"
          ]
        }
      ]
    }
  ]
}