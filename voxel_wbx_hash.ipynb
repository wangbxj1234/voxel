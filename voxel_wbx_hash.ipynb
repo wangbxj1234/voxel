{
  "nbformat": 4,
  "nbformat_minor": 0,
  "metadata": {
    "colab": {
      "provenance": [],
      "authorship_tag": "ABX9TyPFmhHQxp0lBIcjw7T6EVdm",
      "include_colab_link": true
    },
    "kernelspec": {
      "name": "python3",
      "display_name": "Python 3"
    },
    "language_info": {
      "name": "python"
    }
  },
  "cells": [
    {
      "cell_type": "markdown",
      "metadata": {
        "id": "view-in-github",
        "colab_type": "text"
      },
      "source": [
        "<a href=\"https://colab.research.google.com/github/wangbxj1234/voxel/blob/main/voxel_wbx_hash.ipynb\" target=\"_parent\"><img src=\"https://colab.research.google.com/assets/colab-badge.svg\" alt=\"Open In Colab\"/></a>"
      ]
    },
    {
      "cell_type": "code",
      "source": [
        "import numpy as np\n",
        "import torch\n",
        "\n",
        "x = torch.rand(100,6)####n*c\n",
        "p = torch.rand(100,3) #n*3\n",
        "\n",
        "p=p.detach()\n",
        "x=x.detach()\n",
        "discrete_coord = torch.floor(p *10)\n",
        "discrete_coord[1]=discrete_coord[0]\n",
        "discrete_coord[3]=discrete_coord[0]"
      ],
      "metadata": {
        "id": "_huPXSfnUsBP"
      },
      "execution_count": 45,
      "outputs": []
    },
    {
      "cell_type": "code",
      "source": [
        "#discrete_coord=discrete_coord.to(torch.float64)\n",
        "discrete_coord=discrete_coord.cpu().detach().to(torch.float64)"
      ],
      "metadata": {
        "id": "CKbAkMdWs8vc"
      },
      "execution_count": 46,
      "outputs": []
    },
    {
      "cell_type": "code",
      "source": [
        "discrete_coord[2]"
      ],
      "metadata": {
        "colab": {
          "base_uri": "https://localhost:8080/"
        },
        "id": "ejMnspp0ob-4",
        "outputId": "9334053f-6090-46b5-af46-7e1687b7126c"
      },
      "execution_count": 47,
      "outputs": [
        {
          "output_type": "execute_result",
          "data": {
            "text/plain": [
              "tensor([8., 5., 0.], dtype=torch.float64)"
            ]
          },
          "metadata": {},
          "execution_count": 47
        }
      ]
    },
    {
      "cell_type": "code",
      "source": [
        "a=torch.tensor([10000,100,1],dtype=torch.float64)\n",
        "key=torch.einsum('np,p->n', discrete_coord, a)\n",
        "key[2]"
      ],
      "metadata": {
        "colab": {
          "base_uri": "https://localhost:8080/"
        },
        "id": "xZBnsdTrsZJa",
        "outputId": "afdd9945-051f-4f61-bc2f-a64d1f7b073d"
      },
      "execution_count": 51,
      "outputs": [
        {
          "output_type": "execute_result",
          "data": {
            "text/plain": [
              "tensor(80500., dtype=torch.float64)"
            ]
          },
          "metadata": {},
          "execution_count": 51
        }
      ]
    },
    {
      "cell_type": "code",
      "source": [
        "m=key[:, None] - key[None,:]\n",
        "a=(m == 0).nonzero() #find all the zeros ；（(m==0) is a boolean mask）\n"
      ],
      "metadata": {
        "id": "p30yzXxPmLjf"
      },
      "execution_count": null,
      "outputs": []
    },
    {
      "cell_type": "code",
      "source": [
        "counts=torch.count_nonzero(m==0, dim=0)#count zeros row by row\n",
        "maxvoxel=torch.max(counts)#find the count of points in the smallest voxel grid.\n",
        "maxvoxel"
      ],
      "metadata": {
        "colab": {
          "base_uri": "https://localhost:8080/"
        },
        "id": "83bL-DR2dnrK",
        "outputId": "821cd5b6-74cb-4633-dd14-0877b4717acc"
      },
      "execution_count": 54,
      "outputs": [
        {
          "output_type": "execute_result",
          "data": {
            "text/plain": [
              "tensor(3)"
            ]
          },
          "metadata": {},
          "execution_count": 54
        }
      ]
    },
    {
      "cell_type": "code",
      "source": [
        "###我希望 minvoxel 不要低于16， 但是我又不能把格子打的太粗糙。"
      ],
      "metadata": {
        "id": "iE9Zqkz0zq_F"
      },
      "execution_count": null,
      "outputs": []
    }
  ]
}