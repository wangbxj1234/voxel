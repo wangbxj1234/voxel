{
  "nbformat": 4,
  "nbformat_minor": 0,
  "metadata": {
    "colab": {
      "provenance": [],
      "authorship_tag": "ABX9TyOIb4FdRkT0e9CXXdjjCzuH",
      "include_colab_link": true
    },
    "kernelspec": {
      "name": "python3",
      "display_name": "Python 3"
    },
    "language_info": {
      "name": "python"
    }
  },
  "cells": [
    {
      "cell_type": "markdown",
      "metadata": {
        "id": "view-in-github",
        "colab_type": "text"
      },
      "source": [
        "<a href=\"https://colab.research.google.com/github/wangbxj1234/voxel/blob/main/collate_fn.ipynb\" target=\"_parent\"><img src=\"https://colab.research.google.com/assets/colab-badge.svg\" alt=\"Open In Colab\"/></a>"
      ]
    },
    {
      "cell_type": "code",
      "source": [
        "import numpy as np\n",
        "import torch"
      ],
      "metadata": {
        "id": "7cxiUa2BHJI-"
      },
      "execution_count": 4,
      "outputs": []
    },
    {
      "cell_type": "code",
      "execution_count": 42,
      "metadata": {
        "id": "SIHuAM81HHt8"
      },
      "outputs": [],
      "source": [
        "def collate_fn(coord, feat, label):#(B,N,C)\n",
        "    #coord, feat, label = list(zip(*batch))#(B,N,C)\n",
        "    offset = [6,12]\n",
        "    \n",
        "    ####\n",
        "    #coord, feat, label = torch.cat(coord,dim=0), torch.cat(feat,dim=0), torch.cat(label,dim=0) #但是属于不同batch的，就算坐标近也不能分进一个v。\n",
        "    offset = torch.IntTensor(offset)##(N,3),(N,C),(N,),O\n",
        "\n",
        "    ##to np\n",
        "    coord, feat, label = coord.cpu().detach().numpy(),feat.cpu().detach().numpy(),label.cpu().detach().numpy()\n",
        "    ##\n",
        "    PN=0;\n",
        "    voxel=[]\n",
        "    for o in offset:\n",
        "        c, f, l =coord[PN:int(o),:],feat[PN:int(o),:],label[PN:int(o),:]#(n,C),(n,C),(n,)\n",
        "        discrete_coord = np.floor(c *4) \n",
        "        assert discrete_coord.ndim == 2\n",
        "    # Floor first for negative coordinates\n",
        "        arr = discrete_coord.copy()\n",
        "        arr = arr.astype(np.uint64, copy=False)\n",
        "        hashed_arr = np.uint64(14695981039346656037) * np.ones(arr.shape[0], dtype=np.uint64)\n",
        "        for j in range(arr.shape[1]):\n",
        "            hashed_arr *= np.uint64(1099511628211)\n",
        "            hashed_arr = np.bitwise_xor(hashed_arr, arr[:, j])\n",
        "        idx_sort = np.argsort(hashed_arr) \n",
        "        key_sort = hashed_arr[idx_sort] \n",
        "        _, count1 = np.unique(key_sort, return_counts=True)\n",
        "        coord[PN:int(o),:],feat[PN:int(o),:],label[PN:int(o),:]= c[idx_sort],f[idx_sort],l[idx_sort]\n",
        "        voxel.append(count1)\n",
        "        PN=int(o)\n",
        "\n",
        "    ##to torch\n",
        "    coord, feat, label = torch.tensor(coord),torch.tensor(feat),torch.tensor(label)\n",
        "    ##    \n",
        "\n",
        "    return coord, feat, label, offset, voxel"
      ]
    },
    {
      "cell_type": "code",
      "source": [
        "#coord, feat, label=torch.rand(2,6,3),torch.rand(2,6,4),torch.rand(2,6,1)\n",
        "coord, feat, label=torch.rand(2*6,3),torch.rand(2*6,4),torch.rand(2*6,1)\n",
        "coord[0,:]=coord[1,:]\n",
        "coord"
      ],
      "metadata": {
        "colab": {
          "base_uri": "https://localhost:8080/"
        },
        "id": "G5cXTWPPHcGY",
        "outputId": "9a80b54b-5226-406d-ca6b-ff5b6c317213"
      },
      "execution_count": 54,
      "outputs": [
        {
          "output_type": "execute_result",
          "data": {
            "text/plain": [
              "tensor([[0.7676, 0.7569, 0.8271],\n",
              "        [0.7676, 0.7569, 0.8271],\n",
              "        [0.7305, 0.9419, 0.2595],\n",
              "        [0.1547, 0.1996, 0.9441],\n",
              "        [0.8287, 0.0388, 0.0280],\n",
              "        [0.0960, 0.8266, 0.1421],\n",
              "        [0.8201, 0.9880, 0.8288],\n",
              "        [0.1124, 0.0362, 0.3869],\n",
              "        [0.7995, 0.6658, 0.4634],\n",
              "        [0.2010, 0.6069, 0.8736],\n",
              "        [0.5766, 0.6010, 0.2131],\n",
              "        [0.2119, 0.9680, 0.4654]])"
            ]
          },
          "metadata": {},
          "execution_count": 54
        }
      ]
    },
    {
      "cell_type": "code",
      "source": [
        "coord, feat, label, offset, voxel = collate_fn(coord, feat, label)\n",
        "print(coord.size(),feat.size(),label.size())"
      ],
      "metadata": {
        "colab": {
          "base_uri": "https://localhost:8080/"
        },
        "id": "28CuY9UGQ_mb",
        "outputId": "826bb4d5-c500-48af-f402-fc8d6adba47a"
      },
      "execution_count": 55,
      "outputs": [
        {
          "output_type": "stream",
          "name": "stdout",
          "text": [
            "torch.Size([12, 3]) torch.Size([12, 4]) torch.Size([12, 1])\n"
          ]
        }
      ]
    },
    {
      "cell_type": "code",
      "source": [
        "voxel"
      ],
      "metadata": {
        "colab": {
          "base_uri": "https://localhost:8080/"
        },
        "id": "hlRaCQL6YJO9",
        "outputId": "5d6c3ee4-4e8a-432f-90ba-a71a92f0801c"
      },
      "execution_count": 56,
      "outputs": [
        {
          "output_type": "execute_result",
          "data": {
            "text/plain": [
              "[array([1, 2, 1, 1, 1]), array([1, 1, 2, 1, 1])]"
            ]
          },
          "metadata": {},
          "execution_count": 56
        }
      ]
    },
    {
      "cell_type": "code",
      "source": [
        "voxel2=np.concatenate(voxel, axis=0 )# 6-1=5\n",
        "torch.tensor(voxel2)"
      ],
      "metadata": {
        "colab": {
          "base_uri": "https://localhost:8080/"
        },
        "id": "CKiPWwy1Q2AD",
        "outputId": "ad1d9e86-a53e-4170-853b-484d4469ce6b"
      },
      "execution_count": 58,
      "outputs": [
        {
          "output_type": "execute_result",
          "data": {
            "text/plain": [
              "tensor([1, 2, 1, 1, 1, 1, 1, 2, 1, 1])"
            ]
          },
          "metadata": {},
          "execution_count": 58
        }
      ]
    }
  ]
}